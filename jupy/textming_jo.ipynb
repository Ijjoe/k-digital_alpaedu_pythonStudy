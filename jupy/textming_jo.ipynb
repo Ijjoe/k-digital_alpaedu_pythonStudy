{
  "nbformat": 4,
  "nbformat_minor": 0,
  "metadata": {
    "colab": {
      "provenance": []
    },
    "kernelspec": {
      "name": "python3",
      "display_name": "Python 3"
    },
    "language_info": {
      "name": "python"
    }
  },
  "cells": [
    {
      "cell_type": "code",
      "execution_count": null,
      "metadata": {
        "id": "vffN3xk4NU5X"
      },
      "outputs": [],
      "source": [
        "\n",
        "#트레인 파일 불러오기\n",
        "# quoting : 값에 대해서 인용구 설정을 할 수 있다.\n",
        "# 어떤 값에 대해서 인용구를 설정할지는 아래 참고.\n",
        "#{0 : MINIMAL 문자와 특수문자 / 1 : ALL 모든필드 / 2 : NONNUMERIC 숫자가 아닌것 / 3 : NONE 안함}\n",
        "!apt -qq -y install fonts-nanum > /dev/null # 폰트 나눔을 구글코랩에 설치하고 경로를 파악함\n",
        "\n",
        "import pandas as pd\n",
        "from wordcloud import WordCloud #워드클라우드 라이브러리\n",
        "import matplotlib.font_manager as fm\n",
        "import matplotlib.pyplot as plt\n",
        "\n",
        "train_data = pd.read_csv('/content/boom_final.csv')\n",
        "train_data.head()\n",
        "\n",
        "print('데이터 개수: {}'.format(len(train_data)))\n",
        "\n",
        "# 문자열 아닌 데이터 모두 제거\n",
        "train_review = [review for review in train_data['댓글'] if type(review) is str]\n",
        "print(train_review)\n",
        "\n",
        "# 한글 폰트 설치해 경로설정해주기\n",
        "\n",
        "fontpath='/user/share/fonts/truetype/nanum/NanumBarunGothic.ttf'\n",
        "font=fm.FontProperties(fname=fontpath,size=9)\n",
        "\n",
        "\n",
        "wordcloud=WordCloud(font_path=fontpath).generate(' '.join(train_review))# 워드 클라우드 폰트 설정\n",
        "\n",
        "\n",
        "# 워드 클라우드 그리기.\n",
        "plt.imshow(wordcloud, interpolation='bilinear')\n",
        "plt.axis('off')\n",
        "plt.show()"
      ]
    }
  ]
}